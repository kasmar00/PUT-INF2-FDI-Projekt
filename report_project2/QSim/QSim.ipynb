{
 "cells": [
  {
   "cell_type": "code",
   "execution_count": 1,
   "metadata": {},
   "outputs": [],
   "source": [
    "%matplotlib inline\n",
    "# Importing standard Qiskit libraries and configuring account\n",
    "from qiskit import QuantumCircuit, QuantumRegister, ClassicalRegister, execute, Aer, IBMQ\n",
    "from qiskit.compiler import transpile, assemble\n",
    "from qiskit.tools.jupyter import *\n",
    "from qiskit.visualization import *\n",
    "# Loading your IBM Q account(s)\n",
    "provider = IBMQ.load_account()"
   ]
  },
  {
   "cell_type": "code",
   "execution_count": 2,
   "metadata": {},
   "outputs": [],
   "source": [
    "#symulator kwantowy\n",
    "backend = Aer.get_backend('qasm_simulator')\n",
    "n=1\n",
    "seria=4000"
   ]
  },
  {
   "cell_type": "code",
   "execution_count": 3,
   "metadata": {},
   "outputs": [],
   "source": [
    "#ustalenie wartości k\n",
    "indeksy=441+380+305+379\n",
    "k1=indeksy%2\n",
    "k2=indeksy%(2**2)\n",
    "k3=indeksy%(2**3)"
   ]
  },
  {
   "cell_type": "code",
   "execution_count": 4,
   "metadata": {},
   "outputs": [],
   "source": [
    "#obliczenie wartości kątów\n",
    "from math import pi\n",
    "theta0=pi/k2\n",
    "fi0=2*pi/k3"
   ]
  },
  {
   "cell_type": "code",
   "execution_count": 5,
   "metadata": {},
   "outputs": [
    {
     "data": {
      "image/png": "[encoded data removed]",
      "text/plain": [
       "<Figure size 485.212x144.48 with 1 Axes>"
      ]
     },
     "execution_count": 5,
     "metadata": {},
     "output_type": "execute_result"
    }
   ],
   "source": [
    "#przygotowanie układu do pomiarów X\n",
    "nx=n\n",
    "qx = QuantumRegister(nx)\n",
    "cx = ClassicalRegister(nx)\n",
    "\n",
    "circuitX = QuantumCircuit(qx, cx)\n",
    "#ustawienie początkowego stanu kubitu\n",
    "if k1==1:\n",
    "    circuitX.x(qx[0])\n",
    "#ustawienie (obrót u1, u3) kubitu do odpowiedniego stanu według k1, k2\n",
    "circuitX.u1(fi0, qx[0])\n",
    "circuitX.u3(theta0, 0, 0, qx[0])\n",
    "#pomiar X\n",
    "circuitX.h(qx[0])\n",
    "circuitX.measure(qx[0], cx[0])\n",
    "circuitX.draw(output='mpl')"
   ]
  },
  {
   "cell_type": "code",
   "execution_count": 6,
   "metadata": {},
   "outputs": [],
   "source": [
    "# backend = Aer.get_backend('statevector_simulator')\n",
    "# out = execute(circuitX,backend).result().get_statevector()\n",
    "# plot_bloch_multivector(out)"
   ]
  },
  {
   "cell_type": "code",
   "execution_count": 7,
   "metadata": {},
   "outputs": [
    {
     "data": {
      "image/png": "[encoded data removed]",
      "text/plain": [
       "<Figure size 545.412x144.48 with 1 Axes>"
      ]
     },
     "execution_count": 7,
     "metadata": {},
     "output_type": "execute_result"
    }
   ],
   "source": [
    "#przygotowanie układu do pomiarów Y\n",
    "ny=n\n",
    "qy = QuantumRegister(ny)\n",
    "cy = ClassicalRegister(ny)\n",
    "\n",
    "circuitY = QuantumCircuit(qy, cy)\n",
    "#ustawienie początkowego stanu kubitu\n",
    "if k1==1:\n",
    "    circuitY.x(qy[0])\n",
    "#ustawienie (obrót u1, u3) kubitu do odpowiedniego stanu według k1, k2\n",
    "circuitY.u1(fi0, qy[0])\n",
    "circuitY.u3(theta0, 0, 0, qy[0])\n",
    "#pomiar Y\n",
    "circuitY.sdg(qy[0])\n",
    "circuitY.h(qy[0])\n",
    "circuitY.measure(qy[0], cy[0])\n",
    "circuitY.draw(output='mpl')"
   ]
  },
  {
   "cell_type": "code",
   "execution_count": 8,
   "metadata": {},
   "outputs": [
    {
     "data": {
      "image/png": "[encoded data removed]",
      "text/plain": [
       "<Figure size 425.012x144.48 with 1 Axes>"
      ]
     },
     "execution_count": 8,
     "metadata": {},
     "output_type": "execute_result"
    }
   ],
   "source": [
    "#przygotowanie układu do pomiarów Z\n",
    "nz=n\n",
    "qz = QuantumRegister(nz)\n",
    "cz = ClassicalRegister(nz)\n",
    "\n",
    "circuitZ = QuantumCircuit(qz, cz)\n",
    "#ustawienie początkowego stanu kubitu\n",
    "if k1==1:\n",
    "    circuitZ.x(qz[0])\n",
    "#ustawienie (obrót u1, u3) kubitu do odpowiedniego stanu według k1, k2\n",
    "circuitZ.u1(fi0, qz[0])\n",
    "circuitZ.u3(theta0, 0, 0, qz[0])\n",
    "#pomiar Z\n",
    "circuitZ.measure(qz[0], cz[0])\n",
    "circuitZ.draw(output='mpl')"
   ]
  },
  {
   "cell_type": "code",
   "execution_count": 9,
   "metadata": {
    "scrolled": true
   },
   "outputs": [
    {
     "name": "stdout",
     "output_type": "stream",
     "text": [
      "X:  {'1': 2035, '0': 1965}\n",
      "Y:  {'1': 2003, '0': 1997}\n",
      "Z:  {'0': 4000}\n"
     ]
    }
   ],
   "source": [
    "#uruchomienie obwodów i wyświetlenie wyników\n",
    "\n",
    "simX = execute(circuitX, backend, shots=seria)\n",
    "resultX = simX.result()\n",
    "print(\"X: \", resultX.get_counts(circuitX))\n",
    "\n",
    "simY = execute(circuitY, backend, shots=seria)\n",
    "resultY = simY.result()\n",
    "print(\"Y: \", resultY.get_counts(circuitY))\n",
    "\n",
    "simZ = execute(circuitZ, backend, shots=seria)\n",
    "resultZ = simZ.result()\n",
    "print(\"Z: \", resultZ.get_counts(circuitZ))"
   ]
  },
  {
   "cell_type": "code",
   "execution_count": 10,
   "metadata": {},
   "outputs": [
    {
     "name": "stdout",
     "output_type": "stream",
     "text": [
      "{'x': [0.49125, 0.50875], 'y': [0.49925, 0.50075], 'z': [1.0, 0.0]}\n"
     ]
    }
   ],
   "source": [
    "#obliczenie prawdopodobieństwa\n",
    "p={'x':[0,0], 'y':[0,0], 'z':[0,0]}\n",
    "\n",
    "p['x'][0]=resultX.get_counts(circuitX).get('0',0)\n",
    "p['x'][1]=resultX.get_counts(circuitX).get('1',0)\n",
    "p['y'][0]=resultY.get_counts(circuitY).get('0',0)\n",
    "p['y'][1]=resultY.get_counts(circuitY).get('1',0)\n",
    "p['z'][0]=resultZ.get_counts(circuitZ).get('0',0)\n",
    "p['z'][1]=resultZ.get_counts(circuitZ).get('1',0)\n",
    "\n",
    "for i in p.keys():\n",
    "    for j in range(len(p[i])):\n",
    "        p[i][j]=p[i][j]/seria\n",
    "print(p)"
   ]
  }
 ],
 "metadata": {
  "kernelspec": {
   "display_name": "Python 3",
   "language": "python",
   "name": "python3"
  },
  "language_info": {
   "codemirror_mode": {
    "name": "ipython",
    "version": 3
   },
   "file_extension": ".py",
   "mimetype": "text/x-python",
   "name": "python",
   "nbconvert_exporter": "python",
   "pygments_lexer": "ipython3",
   "version": "3.7.8"
  }
 },
 "nbformat": 4,
 "nbformat_minor": 4
}
